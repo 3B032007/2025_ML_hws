{
  "nbformat": 4,
  "nbformat_minor": 0,
  "metadata": {
    "colab": {
      "provenance": [],
      "toc_visible": true,
      "authorship_tag": "ABX9TyO1cYFa9elvqE8nKeUyyE8z",
      "include_colab_link": true
    },
    "kernelspec": {
      "name": "python3",
      "display_name": "Python 3"
    },
    "language_info": {
      "name": "python"
    }
  },
  "cells": [
    {
      "cell_type": "markdown",
      "metadata": {
        "id": "view-in-github",
        "colab_type": "text"
      },
      "source": [
        "<a href=\"https://colab.research.google.com/github/3B032007/2025_ML_hws/blob/main/hw6_2.ipynb\" target=\"_parent\"><img src=\"https://colab.research.google.com/assets/colab-badge.svg\" alt=\"Open In Colab\"/></a>"
      ]
    },
    {
      "cell_type": "markdown",
      "source": [
        "# 作業6-2"
      ],
      "metadata": {
        "id": "97GUA2GMddy2"
      }
    },
    {
      "cell_type": "code",
      "execution_count": 2,
      "metadata": {
        "id": "9e7LCLzDItLX"
      },
      "outputs": [],
      "source": [
        "import numpy as np"
      ]
    },
    {
      "cell_type": "code",
      "source": [
        "x1 = np.array([-1, 0, 1])\n",
        "x2 = np.array([2, 1, 0])\n",
        "x3 = np.array([0, 1, 2])\n",
        "\n",
        "Wx = np.array([\n",
        "    [1, 3, 5, 7],\n",
        "    [-2, 4, -6, 8],\n",
        "    [0, 4, 8, 12]\n",
        "])# shape: (3, 4)\n",
        "\n",
        "Wh = np.array([\n",
        "    [-1, -2, 1, 2],\n",
        "    [3, 1, 0, 2],\n",
        "    [2, 1, -1, 0],\n",
        "    [-3, 2, 0, -1]\n",
        "])# shape: (4, 4)\n",
        "\n",
        "b = np.array([0.1, 0.2, 0.3, 0.4])  # shape: (4,)"
      ],
      "metadata": {
        "id": "RGkO06g3Yxcs"
      },
      "execution_count": 3,
      "outputs": []
    },
    {
      "cell_type": "code",
      "source": [
        "#RNN激活函數使用tanh\n",
        "\n",
        "def tanh(x):\n",
        "    return np.tanh(x)\n",
        "\n",
        "h0 = np.zeros(4)\n",
        "\n",
        "h1 = tanh(np.dot(x1, Wx) + np.dot(h0, Wh) + b)\n",
        "print(\"h1:\", h1)\n",
        "\n",
        "h2 = tanh(np.dot(x2, Wx) + np.dot(h1, Wh) + b)\n",
        "print(\"h2:\", h2)\n",
        "\n",
        "h3 = tanh(np.dot(x3, Wx) + np.dot(h2, Wh) + b)\n",
        "print(\"h3:\", h3)\n"
      ],
      "metadata": {
        "colab": {
          "base_uri": "https://localhost:8080/"
        },
        "id": "mvYtCZpRajFn",
        "outputId": "1afd319e-2caf-415e-e49b-175bf9f7c291"
      },
      "execution_count": 4,
      "outputs": [
        {
          "output_type": "stream",
          "name": "stdout",
          "text": [
            "h1: [-0.71629787  0.83365461  0.99728296  0.9999592 ]\n",
            "h2: [0.98056188 1.         0.98872699 1.        ]\n",
            "h3: [-0.7178078  1.         1.         1.       ]\n"
          ]
        }
      ]
    },
    {
      "cell_type": "markdown",
      "source": [
        "# 作業6-3"
      ],
      "metadata": {
        "id": "RU_yRWSYc8IB"
      }
    },
    {
      "cell_type": "code",
      "source": [
        "import numpy as np"
      ],
      "metadata": {
        "id": "1jxr3t9eciUB"
      },
      "execution_count": 5,
      "outputs": []
    },
    {
      "cell_type": "code",
      "source": [
        "x1 = np.array([1, 2, 3])\n",
        "x2 = np.array([0, 1, -1])\n",
        "x3 = np.array([-2, 0, 2])\n",
        "\n",
        "Wx = np.array([\n",
        "    [1, 2, 3, 4],\n",
        "    [5, 6, 7, 8],\n",
        "    [9, 1, 11, 12]\n",
        "])\n",
        "Wh = np.array([\n",
        "    [1, 0, -1, 0],\n",
        "    [0, 1, 0, -1],\n",
        "    [-1, 0, 1, 0],\n",
        "    [0, -1, 0, 1]\n",
        "])\n",
        "b = np.array([0.01, 0.02, 0.03, 0.04])"
      ],
      "metadata": {
        "id": "qD6jxBRUdiue"
      },
      "execution_count": 6,
      "outputs": []
    },
    {
      "cell_type": "code",
      "source": [
        "def tanh(x):\n",
        "    return np.tanh(x)\n",
        "\n",
        "h0 = np.zeros(4)\n",
        "\n",
        "h1 = tanh(np.dot(x1, Wx) + np.dot(h0, Wh) + b)\n",
        "h2 = tanh(np.dot(x2, Wx) + np.dot(h1, Wh) + b)\n",
        "h3 = tanh(np.dot(x3, Wx) + np.dot(h2, Wh) + b)"
      ],
      "metadata": {
        "id": "-_u6EO_ydjQ7"
      },
      "execution_count": 7,
      "outputs": []
    },
    {
      "cell_type": "code",
      "source": [
        "S3 = np.array([2, 5, 3, 1])\n",
        "\n",
        "e1 = np.dot(S3, h1)\n",
        "e2 = np.dot(S3, h2)\n",
        "e3 = np.dot(S3, h3)\n",
        "\n",
        "print(\"注意力強度e:\", [e1, e2, e3])"
      ],
      "metadata": {
        "colab": {
          "base_uri": "https://localhost:8080/"
        },
        "id": "mHpRLrZddwXq",
        "outputId": "ab13f583-9f6d-4506-e367-802a1d843658"
      },
      "execution_count": 8,
      "outputs": [
        {
          "output_type": "stream",
          "name": "stdout",
          "text": [
            "注意力強度e: [np.float64(10.999999999999982), np.float64(-0.996204670896435), np.float64(6.0959193487892565)]\n"
          ]
        }
      ]
    },
    {
      "cell_type": "code",
      "source": [
        "def softmax(x):\n",
        "    c=np.max(x)\n",
        "    x = x - c\n",
        "    return np.exp(x) / np.sum(np.exp(x))\n",
        "\n",
        "alpha = softmax(np.array([e1, e2, e3]))\n",
        "alpha1, alpha2, alpha3 = alpha\n",
        "print(\"alpha1, alpha2, alpha3:\", alpha1, alpha2, alpha3)"
      ],
      "metadata": {
        "colab": {
          "base_uri": "https://localhost:8080/"
        },
        "id": "FEXrZHXUeDct",
        "outputId": "f7b40942-0753-493b-9c41-18627092d7b3"
      },
      "execution_count": 9,
      "outputs": [
        {
          "output_type": "stream",
          "name": "stdout",
          "text": [
            "alpha1, alpha2, alpha3: 0.9926322608425214 6.122134878574959e-06 0.00736161702260013\n"
          ]
        }
      ]
    },
    {
      "cell_type": "code",
      "source": [
        "c3 = alpha1 * h1 + alpha2 * h2 + alpha3 * h3\n",
        "print(\"c3:\", c3)"
      ],
      "metadata": {
        "colab": {
          "base_uri": "https://localhost:8080/"
        },
        "id": "J9zcTgrWhQCM",
        "outputId": "b4509978-f58c-479b-da5e-bb3e0ad05e19"
      },
      "execution_count": 10,
      "outputs": [
        {
          "output_type": "stream",
          "name": "stdout",
          "text": [
            "c3: [0.99998776 0.99277961 0.99998776 0.99998776]\n"
          ]
        }
      ]
    },
    {
      "cell_type": "markdown",
      "source": [
        "# 作業6-4"
      ],
      "metadata": {
        "id": "eILNkBHiG1mh"
      }
    },
    {
      "cell_type": "code",
      "source": [
        "x1 = np.array([1, 2, 3])\n",
        "x2 = np.array([0, 1, -1])\n",
        "x3 = np.array([-2, 0, 2])\n",
        "\n",
        "X = np.array([x1, x2, x3])"
      ],
      "metadata": {
        "id": "IJJT2QKSG4Ho"
      },
      "execution_count": 11,
      "outputs": []
    },
    {
      "cell_type": "code",
      "source": [
        "Wq = np.array([\n",
        "    [1, 0 ,0],\n",
        "    [0, 1 ,2],\n",
        "    [0, 0 ,1]])\n",
        "\n",
        "Wk = np.array([\n",
        "    [0, 2 ,1],\n",
        "    [0, 1 ,1],\n",
        "    [1, 0 ,2]])\n",
        "\n",
        "Wv = np.array([\n",
        "    [2, 1 ,1],\n",
        "    [0, 3 ,3],\n",
        "    [2, 0 ,1]])"
      ],
      "metadata": {
        "id": "YSUZMIC_HOpS"
      },
      "execution_count": 12,
      "outputs": []
    },
    {
      "cell_type": "code",
      "source": [
        "Q = np.dot(X, Wq)\n",
        "K = np.dot(X, Wk)\n",
        "V = np.dot(X, Wv)\n",
        "\n",
        "print(\"Q:\\n\", Q)\n",
        "print(\"K:\\n\", K)\n",
        "print(\"V:\\n\", V)"
      ],
      "metadata": {
        "colab": {
          "base_uri": "https://localhost:8080/"
        },
        "id": "7p8ZnJCSIwn_",
        "outputId": "4117b25a-ec6a-460b-a62f-68160eb91818"
      },
      "execution_count": 13,
      "outputs": [
        {
          "output_type": "stream",
          "name": "stdout",
          "text": [
            "Q:\n",
            " [[ 1  2  7]\n",
            " [ 0  1  1]\n",
            " [-2  0  2]]\n",
            "K:\n",
            " [[ 3  4  9]\n",
            " [-1  1 -1]\n",
            " [ 2 -4  2]]\n",
            "V:\n",
            " [[ 8  7 10]\n",
            " [-2  3  2]\n",
            " [ 0 -2  0]]\n"
          ]
        }
      ]
    },
    {
      "cell_type": "code",
      "source": [
        "def attention(Q, K, V):\n",
        "  dk = K.shape[-1]\n",
        "  scores = np.dot(Q, K.T) / np.sqrt(dk)\n",
        "  attention_weights = softmax(scores)\n",
        "  output = np.dot(attention_weights, V)\n",
        "  return output, attention_weights\n",
        "\n",
        "self_attention_output, attention_weights = attention(Q, K, V)\n",
        "print(\"Self Attention Output:\\n\", self_attention_output)\n",
        "print(\"Attention Weights:\\n\", attention_weights)"
      ],
      "metadata": {
        "colab": {
          "base_uri": "https://localhost:8080/"
        },
        "id": "fhVqd6e5I5zO",
        "outputId": "1758c549-49e6-4b01-8b17-ce41cea32f28"
      },
      "execution_count": 14,
      "outputs": [
        {
          "output_type": "stream",
          "name": "stdout",
          "text": [
            "Self Attention Output:\n",
            " [[8.00000000e+00 7.00000000e+00 1.00000000e+01]\n",
            " [4.05404035e-15 3.54843373e-15 5.06880488e-15]\n",
            " [2.27562850e-15 1.99194154e-15 2.84579006e-15]]\n",
            "Attention Weights:\n",
            " [[1.00000000e+00 8.72563651e-21 2.82590542e-17]\n",
            " [5.06824735e-16 2.78764415e-19 8.78531345e-20]\n",
            " [2.84523253e-16 2.78764415e-19 2.78764415e-19]]\n"
          ]
        }
      ]
    },
    {
      "cell_type": "code",
      "source": [
        "# 驗證\n",
        "q1 = np.dot(x1, Wq)\n",
        "k1 = np.dot(x1, Wk)\n",
        "v1 = np.dot(x1, Wv)\n",
        "\n",
        "print(\"q1:\", q1)\n",
        "print(\"k1:\", k1)\n",
        "print(\"v1:\", v1)\n",
        "\n",
        "print(\"\\nQ[0] =\", Q[0])\n",
        "print(\"K[0] =\", K[0])\n",
        "print(\"V[0] =\", V[0])"
      ],
      "metadata": {
        "colab": {
          "base_uri": "https://localhost:8080/"
        },
        "id": "wfL3wl9QI_fU",
        "outputId": "31eadf04-bec7-41e4-c6d8-c4731db39a38"
      },
      "execution_count": 19,
      "outputs": [
        {
          "output_type": "stream",
          "name": "stdout",
          "text": [
            "q1: [1 2 7]\n",
            "k1: [3 4 9]\n",
            "v1: [ 8  7 10]\n",
            "\n",
            "Q[0] = [1 2 7]\n",
            "K[0] = [3 4 9]\n",
            "V[0] = [ 8  7 10]\n"
          ]
        }
      ]
    }
  ]
}