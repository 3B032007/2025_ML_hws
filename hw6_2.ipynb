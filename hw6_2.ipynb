{
  "nbformat": 4,
  "nbformat_minor": 0,
  "metadata": {
    "colab": {
      "provenance": [],
      "toc_visible": true,
      "authorship_tag": "ABX9TyO7suI8BY5hutnUFlQ2dGGs",
      "include_colab_link": true
    },
    "kernelspec": {
      "name": "python3",
      "display_name": "Python 3"
    },
    "language_info": {
      "name": "python"
    }
  },
  "cells": [
    {
      "cell_type": "markdown",
      "metadata": {
        "id": "view-in-github",
        "colab_type": "text"
      },
      "source": [
        "<a href=\"https://colab.research.google.com/github/3B032007/2025_ML_hws/blob/main/hw6_2.ipynb\" target=\"_parent\"><img src=\"https://colab.research.google.com/assets/colab-badge.svg\" alt=\"Open In Colab\"/></a>"
      ]
    },
    {
      "cell_type": "markdown",
      "source": [
        "# 作業6-2"
      ],
      "metadata": {
        "id": "97GUA2GMddy2"
      }
    },
    {
      "cell_type": "code",
      "execution_count": 20,
      "metadata": {
        "id": "9e7LCLzDItLX"
      },
      "outputs": [],
      "source": [
        "import numpy as np"
      ]
    },
    {
      "cell_type": "code",
      "source": [
        "x1 = np.array([-1, 0, 1])\n",
        "x2 = np.array([2, 1, 0])\n",
        "x3 = np.array([0, 1, 2])\n",
        "\n",
        "Wx = np.array([\n",
        "    [1, 3, 5, 7],\n",
        "    [-2, 4, -6, 8],\n",
        "    [0, 4, 8, 12]\n",
        "])# shape: (3, 4)\n",
        "\n",
        "Wh = np.array([\n",
        "    [-1, -2, 1, 2],\n",
        "    [3, 1, 0, 2],\n",
        "    [2, 1, -1, 0],\n",
        "    [-3, 2, 0, -1]\n",
        "])# shape: (4, 4)\n",
        "\n",
        "b = np.array([0.1, 0.2, 0.3, 0.4])  # shape: (4,)"
      ],
      "metadata": {
        "id": "RGkO06g3Yxcs"
      },
      "execution_count": 21,
      "outputs": []
    },
    {
      "cell_type": "code",
      "source": [
        "#RNN激活函數使用tanh\n",
        "\n",
        "def tanh(x):\n",
        "    return np.tanh(x)\n",
        "\n",
        "h0 = np.zeros(4)\n",
        "\n",
        "h1 = tanh(np.dot(x1, Wx) + np.dot(h0, Wh) + b)\n",
        "print(\"h1:\", h1)\n",
        "\n",
        "h2 = tanh(np.dot(x2, Wx) + np.dot(h1, Wh) + b)\n",
        "print(\"h2:\", h2)\n",
        "\n",
        "h3 = tanh(np.dot(x3, Wx) + np.dot(h2, Wh) + b)\n",
        "print(\"h3:\", h3)\n"
      ],
      "metadata": {
        "colab": {
          "base_uri": "https://localhost:8080/"
        },
        "id": "mvYtCZpRajFn",
        "outputId": "b1d3ae71-4814-4ac3-fea9-e84b37795ab4"
      },
      "execution_count": 22,
      "outputs": [
        {
          "output_type": "stream",
          "name": "stdout",
          "text": [
            "h1: [-0.71629787  0.83365461  0.99728296  0.9999592 ]\n",
            "h2: [0.98056188 1.         0.98872699 1.        ]\n",
            "h3: [-0.7178078  1.         1.         1.       ]\n"
          ]
        }
      ]
    },
    {
      "cell_type": "markdown",
      "source": [
        "# 作業6-3"
      ],
      "metadata": {
        "id": "RU_yRWSYc8IB"
      }
    },
    {
      "cell_type": "code",
      "source": [
        "import numpy as np"
      ],
      "metadata": {
        "id": "1jxr3t9eciUB"
      },
      "execution_count": 23,
      "outputs": []
    },
    {
      "cell_type": "code",
      "source": [
        "x1 = np.array([1, 2, 3])\n",
        "x2 = np.array([0, 1, -1])\n",
        "x3 = np.array([-2, 0, 2])\n",
        "\n",
        "Wx = np.array([\n",
        "    [1, 2, 3, 4],\n",
        "    [5, 6, 7, 8],\n",
        "    [9, 1, 11, 12]\n",
        "])\n",
        "Wh = np.array([\n",
        "    [1, 0, -1, 0],\n",
        "    [0, 1, 0, -1],\n",
        "    [-1, 0, 1, 0],\n",
        "    [0, -1, 0, 1]\n",
        "])\n",
        "b = np.array([0.01, 0.02, 0.03, 0.04])"
      ],
      "metadata": {
        "id": "qD6jxBRUdiue"
      },
      "execution_count": 24,
      "outputs": []
    },
    {
      "cell_type": "code",
      "source": [
        "def tanh(x):\n",
        "    return np.tanh(x)\n",
        "\n",
        "h0 = np.zeros(4)\n",
        "\n",
        "h1 = tanh(np.dot(x1, Wx) + np.dot(h0, Wh) + b)\n",
        "h2 = tanh(np.dot(x2, Wx) + np.dot(h1, Wh) + b)\n",
        "h3 = tanh(np.dot(x3, Wx) + np.dot(h2, Wh) + b)"
      ],
      "metadata": {
        "id": "-_u6EO_ydjQ7"
      },
      "execution_count": 25,
      "outputs": []
    },
    {
      "cell_type": "code",
      "source": [
        "S3 = np.array([2, 5, 3, 1])\n",
        "\n",
        "e1 = np.dot(S3, h1)\n",
        "e2 = np.dot(S3, h2)\n",
        "e3 = np.dot(S3, h3)\n",
        "\n",
        "print(\"注意力強度e:\", [e1, e2, e3])"
      ],
      "metadata": {
        "colab": {
          "base_uri": "https://localhost:8080/"
        },
        "id": "mHpRLrZddwXq",
        "outputId": "b395822c-dbf0-4b22-d84b-badd24a593c1"
      },
      "execution_count": 26,
      "outputs": [
        {
          "output_type": "stream",
          "name": "stdout",
          "text": [
            "注意力強度e: [np.float64(10.999999999999982), np.float64(-0.996204670896435), np.float64(6.0959193487892565)]\n"
          ]
        }
      ]
    },
    {
      "cell_type": "code",
      "source": [
        "def softmax(x):\n",
        "    c=np.max(x)\n",
        "    x = x - c\n",
        "    return np.exp(x) / np.sum(np.exp(x))\n",
        "\n",
        "alpha = softmax(np.array([e1, e2, e3]))\n",
        "alpha1, alpha2, alpha3 = alpha\n",
        "print(\"alpha1, alpha2, alpha3:\", alpha1, alpha2, alpha3)"
      ],
      "metadata": {
        "colab": {
          "base_uri": "https://localhost:8080/"
        },
        "id": "FEXrZHXUeDct",
        "outputId": "53d15da9-b194-43e5-cf61-3ea46b0b016f"
      },
      "execution_count": 27,
      "outputs": [
        {
          "output_type": "stream",
          "name": "stdout",
          "text": [
            "alpha1, alpha2, alpha3: 0.9926322608425214 6.122134878574959e-06 0.00736161702260013\n"
          ]
        }
      ]
    },
    {
      "cell_type": "code",
      "source": [
        "c3 = alpha1 * h1 + alpha2 * h2 + alpha3 * h3\n",
        "print(\"c3:\", c3)"
      ],
      "metadata": {
        "colab": {
          "base_uri": "https://localhost:8080/"
        },
        "id": "J9zcTgrWhQCM",
        "outputId": "827d68fb-b896-4611-9b9f-17eb76bf750a"
      },
      "execution_count": 28,
      "outputs": [
        {
          "output_type": "stream",
          "name": "stdout",
          "text": [
            "c3: [0.99998776 0.99277961 0.99998776 0.99998776]\n"
          ]
        }
      ]
    }
  ]
}