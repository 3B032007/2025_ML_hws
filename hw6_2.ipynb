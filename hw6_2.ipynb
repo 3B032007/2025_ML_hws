{
  "nbformat": 4,
  "nbformat_minor": 0,
  "metadata": {
    "colab": {
      "provenance": [],
      "toc_visible": true,
      "authorship_tag": "ABX9TyOy8RGyX33pKpFv7/pqWH6A",
      "include_colab_link": true
    },
    "kernelspec": {
      "name": "python3",
      "display_name": "Python 3"
    },
    "language_info": {
      "name": "python"
    }
  },
  "cells": [
    {
      "cell_type": "markdown",
      "metadata": {
        "id": "view-in-github",
        "colab_type": "text"
      },
      "source": [
        "<a href=\"https://colab.research.google.com/github/3B032007/2025_ML_hws/blob/main/hw6_2.ipynb\" target=\"_parent\"><img src=\"https://colab.research.google.com/assets/colab-badge.svg\" alt=\"Open In Colab\"/></a>"
      ]
    },
    {
      "cell_type": "code",
      "execution_count": 1,
      "metadata": {
        "id": "9e7LCLzDItLX"
      },
      "outputs": [],
      "source": [
        "import numpy as np"
      ]
    },
    {
      "cell_type": "code",
      "source": [
        "x1 = np.array([-1, 0, 1])\n",
        "x2 = np.array([2, 1, 0])\n",
        "x3 = np.array([0, 1, 2])\n",
        "\n",
        "Wx = np.array([\n",
        "    [1, 3, 5, 7],\n",
        "    [-2, 4, -6, 8],\n",
        "    [0, 4, 8, 12]\n",
        "])# shape: (3, 4)\n",
        "\n",
        "Wh = np.array([\n",
        "    [-1, -2, 1, 2],\n",
        "    [3, 1, 0, 2],\n",
        "    [2, 1, -1, 0],\n",
        "    [-3, 2, 0, -1]\n",
        "])# shape: (4, 4)\n",
        "\n",
        "b = np.array([0.1, 0.2, 0.3, 0.4])  # shape: (4,)"
      ],
      "metadata": {
        "id": "RGkO06g3Yxcs"
      },
      "execution_count": 2,
      "outputs": []
    },
    {
      "cell_type": "code",
      "source": [
        "#RNN激活函數使用tanh\n",
        "\n",
        "def tanh(x):\n",
        "    return np.tanh(x)\n",
        "\n",
        "h0 = np.zeros(4)\n",
        "\n",
        "h1 = tanh(np.dot(x1, Wx) + np.dot(h0, Wh) + b)\n",
        "print(\"h1:\", h1)\n",
        "\n",
        "h2 = tanh(np.dot(x2, Wx) + np.dot(h1, Wh) + b)\n",
        "print(\"h2:\", h2)\n",
        "\n",
        "h3 = tanh(np.dot(x3, Wx) + np.dot(h2, Wh) + b)\n",
        "print(\"h3:\", h3)\n"
      ],
      "metadata": {
        "colab": {
          "base_uri": "https://localhost:8080/"
        },
        "id": "mvYtCZpRajFn",
        "outputId": "0bd733e3-bde7-485d-bc6b-d6c17936f122"
      },
      "execution_count": 4,
      "outputs": [
        {
          "output_type": "stream",
          "name": "stdout",
          "text": [
            "h1: [-0.71629787  0.83365461  0.99728296  0.9999592 ]\n",
            "h2: [0.98056188 1.         0.98872699 1.        ]\n",
            "h3: [-0.7178078  1.         1.         1.       ]\n"
          ]
        }
      ]
    }
  ]
}