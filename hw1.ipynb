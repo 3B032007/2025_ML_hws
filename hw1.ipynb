{
  "nbformat": 4,
  "nbformat_minor": 0,
  "metadata": {
    "colab": {
      "provenance": [],
      "toc_visible": true,
      "authorship_tag": "ABX9TyPuJCOJ+/RwBlq5V/uJYG6S",
      "include_colab_link": true
    },
    "kernelspec": {
      "name": "python3",
      "display_name": "Python 3"
    },
    "language_info": {
      "name": "python"
    }
  },
  "cells": [
    {
      "cell_type": "markdown",
      "metadata": {
        "id": "view-in-github",
        "colab_type": "text"
      },
      "source": [
        "<a href=\"https://colab.research.google.com/github/3B032007/2025_ML_hws/blob/main/hw1.ipynb\" target=\"_parent\"><img src=\"https://colab.research.google.com/assets/colab-badge.svg\" alt=\"Open In Colab\"/></a>"
      ]
    },
    {
      "cell_type": "markdown",
      "source": [
        "# 作業1 模擬多隱藏層的全連接神經網路"
      ],
      "metadata": {
        "id": "YsuwfhSyJIbu"
      }
    },
    {
      "cell_type": "markdown",
      "source": [
        "## 1、定義各個激發函數"
      ],
      "metadata": {
        "id": "-Y-skQwjJ-VQ"
      }
    },
    {
      "cell_type": "code",
      "source": [
        "import numpy as np\n",
        "# sigmoid激發函數\n",
        "def sigmoid(x):\n",
        "    return 1/(1+np.exp(-x))\n",
        "\n",
        "# ReLU激發函數\n",
        "def relu(x):\n",
        "    return np.maximum(0, x)\n",
        "\n",
        "#Softmax函數\n",
        "def softmax(x):\n",
        "    c=np.max(x)\n",
        "    x = x - c\n",
        "    return np.exp(x) / np.sum(np.exp(x))"
      ],
      "metadata": {
        "id": "Djt-tYCuIWoc"
      },
      "execution_count": null,
      "outputs": []
    },
    {
      "cell_type": "markdown",
      "source": [
        "## 2、設定輸入層的6個神經元"
      ],
      "metadata": {
        "id": "VnOnlTvCKQSD"
      }
    },
    {
      "cell_type": "code",
      "source": [
        "x=np.array([-1.0, 1.0, 2.0, 3.0, 4.0, 5.0])\n",
        "\n",
        "print(x.shape)"
      ],
      "metadata": {
        "colab": {
          "base_uri": "https://localhost:8080/"
        },
        "id": "vc4YxvZ2KP5q",
        "outputId": "01f246af-a578-44a7-85d5-3a75192822e8"
      },
      "execution_count": null,
      "outputs": [
        {
          "output_type": "stream",
          "name": "stdout",
          "text": [
            "(6,)\n"
          ]
        }
      ]
    },
    {
      "cell_type": "markdown",
      "source": [
        "## 3、第一層隱藏層5個神經元"
      ],
      "metadata": {
        "id": "PxbyDDCBMtQa"
      }
    },
    {
      "cell_type": "code",
      "source": [
        "W1=np.array([[0.1, 0.2, 0.3, 0.4, 0.5],\n",
        "      [0.2, 0.3, 0.4, 0.5, 0.6],\n",
        "      [0.3, 0.4, 0.5, 0.6, 0.7],\n",
        "      [0.7, 0.6, 0.5, 0.4, 0.3],\n",
        "      [0.6, 0.5, 0.4, 0.3, 0.2],\n",
        "      [0.5, 0.4, 0.3, 0.2, 0.1]])\n",
        "b1=np.array([0.1, 0.2, 0.3, 0.4, 0.5])\n",
        "\n",
        "print(W1.shape)\n",
        "print(b1.shape)\n",
        "\n",
        "# 計算加權和z1及輸出量h1 激發函數使用ReLU\n",
        "z1=np.dot(x,W1)+b1\n",
        "h1=relu(z1)\n",
        "print(h1)"
      ],
      "metadata": {
        "colab": {
          "base_uri": "https://localhost:8080/"
        },
        "id": "HewCxgV1L0jS",
        "outputId": "7b281bc3-cef4-4f97-9e2f-e1bd445a06c0"
      },
      "execution_count": null,
      "outputs": [
        {
          "output_type": "stream",
          "name": "stdout",
          "text": [
            "(6, 5)\n",
            "(5,)\n",
            "[7.8 6.9 6.  5.1 4.2]\n"
          ]
        }
      ]
    },
    {
      "cell_type": "markdown",
      "source": [
        "## 4、第二層隱藏層4個神經元"
      ],
      "metadata": {
        "id": "PX6WwSC7Mr-1"
      }
    },
    {
      "cell_type": "code",
      "source": [
        "W2=np.array([[0.1, 0.3, 0.5, 0.7],\n",
        "      [0.2, 0.4, 0.6, 0.8],\n",
        "      [0.3, 0.5, 0.7, 0.9],\n",
        "      [0.4, 0.6, 0.8, 0.1],\n",
        "      [0.5, 0.7, 0.9, 0.3]])\n",
        "b2=np.array([0.1, 0.2, 0.3, 0.4])\n",
        "\n",
        "print(W2.shape)\n",
        "print(b2.shape)\n",
        "\n",
        "# 計算加權和z2及輸出量h2 激發函數使用ReLU\n",
        "z2=np.dot(h1,W2)+b2\n",
        "h2=relu(z2)\n",
        "print(h2)"
      ],
      "metadata": {
        "colab": {
          "base_uri": "https://localhost:8080/"
        },
        "id": "gCicO1VbMDgw",
        "outputId": "cb421667-24de-45df-d121-f55e24985970"
      },
      "execution_count": null,
      "outputs": [
        {
          "output_type": "stream",
          "name": "stdout",
          "text": [
            "(5, 4)\n",
            "(4,)\n",
            "[ 8.2  14.3  20.4  18.55]\n"
          ]
        }
      ]
    },
    {
      "cell_type": "markdown",
      "source": [
        "## 5、第三層隱藏層4個神經元"
      ],
      "metadata": {
        "id": "8eZuQeUROBQ_"
      }
    },
    {
      "cell_type": "code",
      "source": [
        "W3=np.array([[0.7, 0.6, 0.4, 0.3],\n",
        "      [0.4, 0.2, 0.1, 0.7],\n",
        "      [0.8, 0.4, 0.3, 0.5],\n",
        "      [0.1, 0.6, 0.9, 0.3]])\n",
        "b3=np.array([0.1, 0.2, 0.3, 0.4])\n",
        "\n",
        "print(W3.shape)\n",
        "print(b3.shape)\n",
        "\n",
        "# 計算加權和z3及輸出量h3 激發函數使用sigmoid\n",
        "z3=np.dot(h2,W3)+b3\n",
        "h3=sigmoid(z3)\n",
        "print(h3)"
      ],
      "metadata": {
        "colab": {
          "base_uri": "https://localhost:8080/"
        },
        "id": "FAux5_QDOHUQ",
        "outputId": "2faff5a9-96bd-464e-d6d9-ea9a5d984fac"
      },
      "execution_count": null,
      "outputs": [
        {
          "output_type": "stream",
          "name": "stdout",
          "text": [
            "[1. 1. 1. 1.]\n"
          ]
        }
      ]
    },
    {
      "cell_type": "markdown",
      "source": [
        "## 6、輸出層3個神經元"
      ],
      "metadata": {
        "id": "G3iI8ohmO5P2"
      }
    },
    {
      "cell_type": "code",
      "source": [
        "W4=np.array([[0.3, 0.9, 0.4],\n",
        "      [0.2, 0.1, 0.6],\n",
        "      [0.6, 0.8, 0.5],\n",
        "      [0.7, 0.4, 0.9]])\n",
        "b4=np.array([0.1, 0.2, 0.3])\n",
        "\n",
        "print(W4.shape)\n",
        "print(b4.shape)\n",
        "\n",
        "# 計算輸出結果 激發函數使用softmax\n",
        "z4=np.dot(h3,W4)+b4\n",
        "y_hat=softmax(z4)\n",
        "print(y_hat)"
      ],
      "metadata": {
        "colab": {
          "base_uri": "https://localhost:8080/"
        },
        "id": "PA6oLaiCOxvO",
        "outputId": "aaa7b448-e416-4e3a-cae3-049ef316f7d3"
      },
      "execution_count": null,
      "outputs": [
        {
          "output_type": "stream",
          "name": "stdout",
          "text": [
            "(4, 3)\n",
            "(3,)\n",
            "[0.20515925 0.33825043 0.45659032]\n"
          ]
        }
      ]
    },
    {
      "cell_type": "markdown",
      "source": [
        "## 7、利用cross_entropy_error衡量y_hat與y之間的誤差值"
      ],
      "metadata": {
        "id": "ZqEcb_8zUAv3"
      }
    },
    {
      "cell_type": "code",
      "source": [
        "def cross_entropy_error(y_hat, y):\n",
        "    return -np.sum(y * np.log(y_hat + 1e-7))"
      ],
      "metadata": {
        "id": "8goLY-S-UNOm"
      },
      "execution_count": null,
      "outputs": []
    },
    {
      "cell_type": "code",
      "source": [
        "y=[0, 0, 1]"
      ],
      "metadata": {
        "id": "CH_sW9sAUZE4"
      },
      "execution_count": null,
      "outputs": []
    },
    {
      "cell_type": "code",
      "source": [
        "np.log(y_hat + 1e-7)"
      ],
      "metadata": {
        "colab": {
          "base_uri": "https://localhost:8080/"
        },
        "id": "8d5Q7JbZUd-C",
        "outputId": "6fd77b0f-4eaa-4e8d-ac5a-fd63424b7c0a"
      },
      "execution_count": null,
      "outputs": [
        {
          "output_type": "execute_result",
          "data": {
            "text/plain": [
              "array([-1.58396826, -1.08396845, -0.78396853])"
            ]
          },
          "metadata": {},
          "execution_count": 25
        }
      ]
    },
    {
      "cell_type": "code",
      "source": [
        "np.log(y_hat + 1e-7)"
      ],
      "metadata": {
        "colab": {
          "base_uri": "https://localhost:8080/"
        },
        "id": "0G6sQ0P9UvDV",
        "outputId": "c79aa6af-f119-418e-8cbe-be2916eed6d8"
      },
      "execution_count": null,
      "outputs": [
        {
          "output_type": "execute_result",
          "data": {
            "text/plain": [
              "array([-1.58396826, -1.08396845, -0.78396853])"
            ]
          },
          "metadata": {},
          "execution_count": 26
        }
      ]
    },
    {
      "cell_type": "code",
      "source": [
        "y*np.log(y_hat + 1e-7)"
      ],
      "metadata": {
        "colab": {
          "base_uri": "https://localhost:8080/"
        },
        "id": "afsENKsyUvvr",
        "outputId": "e78a6fdb-cbf4-4967-cd6f-a2857f5d2257"
      },
      "execution_count": null,
      "outputs": [
        {
          "output_type": "execute_result",
          "data": {
            "text/plain": [
              "array([-0.        , -0.        , -0.78396853])"
            ]
          },
          "metadata": {},
          "execution_count": 27
        }
      ]
    },
    {
      "cell_type": "code",
      "source": [
        "-np.sum(y * np.log(y_hat + 1e-7))"
      ],
      "metadata": {
        "colab": {
          "base_uri": "https://localhost:8080/"
        },
        "id": "bit5KO90Uxli",
        "outputId": "43547217-5567-4b8a-eaa6-4d5c3036c409"
      },
      "execution_count": null,
      "outputs": [
        {
          "output_type": "execute_result",
          "data": {
            "text/plain": [
              "np.float64(0.7839685302264483)"
            ]
          },
          "metadata": {},
          "execution_count": 28
        }
      ]
    },
    {
      "cell_type": "code",
      "source": [
        "cross_entropy_error(y_hat, y)"
      ],
      "metadata": {
        "colab": {
          "base_uri": "https://localhost:8080/"
        },
        "id": "uI648p-uU00u",
        "outputId": "df97cf26-5f85-4f21-f689-7ff2075feeab"
      },
      "execution_count": null,
      "outputs": [
        {
          "output_type": "execute_result",
          "data": {
            "text/plain": [
              "np.float64(0.7839685302264483)"
            ]
          },
          "metadata": {},
          "execution_count": 29
        }
      ]
    },
    {
      "cell_type": "markdown",
      "source": [
        "# 引用gradio套件"
      ],
      "metadata": {
        "id": "YRYP9rt6U6tW"
      }
    },
    {
      "cell_type": "code",
      "source": [
        "pip install gradio"
      ],
      "metadata": {
        "colab": {
          "base_uri": "https://localhost:8080/"
        },
        "id": "XXaIMsGoWgFA",
        "outputId": "29fce135-f373-428c-910f-fe2a9c077e59"
      },
      "execution_count": null,
      "outputs": [
        {
          "output_type": "stream",
          "name": "stdout",
          "text": [
            "Collecting gradio\n",
            "  Downloading gradio-5.22.0-py3-none-any.whl.metadata (16 kB)\n",
            "Collecting aiofiles<24.0,>=22.0 (from gradio)\n",
            "  Downloading aiofiles-23.2.1-py3-none-any.whl.metadata (9.7 kB)\n",
            "Requirement already satisfied: anyio<5.0,>=3.0 in /usr/local/lib/python3.11/dist-packages (from gradio) (4.9.0)\n",
            "Collecting fastapi<1.0,>=0.115.2 (from gradio)\n",
            "  Downloading fastapi-0.115.11-py3-none-any.whl.metadata (27 kB)\n",
            "Collecting ffmpy (from gradio)\n",
            "  Downloading ffmpy-0.5.0-py3-none-any.whl.metadata (3.0 kB)\n",
            "Collecting gradio-client==1.8.0 (from gradio)\n",
            "  Downloading gradio_client-1.8.0-py3-none-any.whl.metadata (7.1 kB)\n",
            "Collecting groovy~=0.1 (from gradio)\n",
            "  Downloading groovy-0.1.2-py3-none-any.whl.metadata (6.1 kB)\n",
            "Requirement already satisfied: httpx>=0.24.1 in /usr/local/lib/python3.11/dist-packages (from gradio) (0.28.1)\n",
            "Requirement already satisfied: huggingface-hub>=0.28.1 in /usr/local/lib/python3.11/dist-packages (from gradio) (0.29.3)\n",
            "Requirement already satisfied: jinja2<4.0 in /usr/local/lib/python3.11/dist-packages (from gradio) (3.1.6)\n",
            "Requirement already satisfied: markupsafe<4.0,>=2.0 in /usr/local/lib/python3.11/dist-packages (from gradio) (3.0.2)\n",
            "Requirement already satisfied: numpy<3.0,>=1.0 in /usr/local/lib/python3.11/dist-packages (from gradio) (2.0.2)\n",
            "Requirement already satisfied: orjson~=3.0 in /usr/local/lib/python3.11/dist-packages (from gradio) (3.10.15)\n",
            "Requirement already satisfied: packaging in /usr/local/lib/python3.11/dist-packages (from gradio) (24.2)\n",
            "Requirement already satisfied: pandas<3.0,>=1.0 in /usr/local/lib/python3.11/dist-packages (from gradio) (2.2.2)\n",
            "Requirement already satisfied: pillow<12.0,>=8.0 in /usr/local/lib/python3.11/dist-packages (from gradio) (11.1.0)\n",
            "Requirement already satisfied: pydantic>=2.0 in /usr/local/lib/python3.11/dist-packages (from gradio) (2.10.6)\n",
            "Collecting pydub (from gradio)\n",
            "  Downloading pydub-0.25.1-py2.py3-none-any.whl.metadata (1.4 kB)\n",
            "Collecting python-multipart>=0.0.18 (from gradio)\n",
            "  Downloading python_multipart-0.0.20-py3-none-any.whl.metadata (1.8 kB)\n",
            "Requirement already satisfied: pyyaml<7.0,>=5.0 in /usr/local/lib/python3.11/dist-packages (from gradio) (6.0.2)\n",
            "Collecting ruff>=0.9.3 (from gradio)\n",
            "  Downloading ruff-0.11.1-py3-none-manylinux_2_17_x86_64.manylinux2014_x86_64.whl.metadata (25 kB)\n",
            "Collecting safehttpx<0.2.0,>=0.1.6 (from gradio)\n",
            "  Downloading safehttpx-0.1.6-py3-none-any.whl.metadata (4.2 kB)\n",
            "Collecting semantic-version~=2.0 (from gradio)\n",
            "  Downloading semantic_version-2.10.0-py2.py3-none-any.whl.metadata (9.7 kB)\n",
            "Collecting starlette<1.0,>=0.40.0 (from gradio)\n",
            "  Downloading starlette-0.46.1-py3-none-any.whl.metadata (6.2 kB)\n",
            "Collecting tomlkit<0.14.0,>=0.12.0 (from gradio)\n",
            "  Downloading tomlkit-0.13.2-py3-none-any.whl.metadata (2.7 kB)\n",
            "Requirement already satisfied: typer<1.0,>=0.12 in /usr/local/lib/python3.11/dist-packages (from gradio) (0.15.2)\n",
            "Requirement already satisfied: typing-extensions~=4.0 in /usr/local/lib/python3.11/dist-packages (from gradio) (4.12.2)\n",
            "Collecting uvicorn>=0.14.0 (from gradio)\n",
            "  Downloading uvicorn-0.34.0-py3-none-any.whl.metadata (6.5 kB)\n",
            "Requirement already satisfied: fsspec in /usr/local/lib/python3.11/dist-packages (from gradio-client==1.8.0->gradio) (2025.3.0)\n",
            "Requirement already satisfied: websockets<16.0,>=10.0 in /usr/local/lib/python3.11/dist-packages (from gradio-client==1.8.0->gradio) (14.2)\n",
            "Requirement already satisfied: idna>=2.8 in /usr/local/lib/python3.11/dist-packages (from anyio<5.0,>=3.0->gradio) (3.10)\n",
            "Requirement already satisfied: sniffio>=1.1 in /usr/local/lib/python3.11/dist-packages (from anyio<5.0,>=3.0->gradio) (1.3.1)\n",
            "Requirement already satisfied: certifi in /usr/local/lib/python3.11/dist-packages (from httpx>=0.24.1->gradio) (2025.1.31)\n",
            "Requirement already satisfied: httpcore==1.* in /usr/local/lib/python3.11/dist-packages (from httpx>=0.24.1->gradio) (1.0.7)\n",
            "Requirement already satisfied: h11<0.15,>=0.13 in /usr/local/lib/python3.11/dist-packages (from httpcore==1.*->httpx>=0.24.1->gradio) (0.14.0)\n",
            "Requirement already satisfied: filelock in /usr/local/lib/python3.11/dist-packages (from huggingface-hub>=0.28.1->gradio) (3.18.0)\n",
            "Requirement already satisfied: requests in /usr/local/lib/python3.11/dist-packages (from huggingface-hub>=0.28.1->gradio) (2.32.3)\n",
            "Requirement already satisfied: tqdm>=4.42.1 in /usr/local/lib/python3.11/dist-packages (from huggingface-hub>=0.28.1->gradio) (4.67.1)\n",
            "Requirement already satisfied: python-dateutil>=2.8.2 in /usr/local/lib/python3.11/dist-packages (from pandas<3.0,>=1.0->gradio) (2.8.2)\n",
            "Requirement already satisfied: pytz>=2020.1 in /usr/local/lib/python3.11/dist-packages (from pandas<3.0,>=1.0->gradio) (2025.1)\n",
            "Requirement already satisfied: tzdata>=2022.7 in /usr/local/lib/python3.11/dist-packages (from pandas<3.0,>=1.0->gradio) (2025.1)\n",
            "Requirement already satisfied: annotated-types>=0.6.0 in /usr/local/lib/python3.11/dist-packages (from pydantic>=2.0->gradio) (0.7.0)\n",
            "Requirement already satisfied: pydantic-core==2.27.2 in /usr/local/lib/python3.11/dist-packages (from pydantic>=2.0->gradio) (2.27.2)\n",
            "Requirement already satisfied: click>=8.0.0 in /usr/local/lib/python3.11/dist-packages (from typer<1.0,>=0.12->gradio) (8.1.8)\n",
            "Requirement already satisfied: shellingham>=1.3.0 in /usr/local/lib/python3.11/dist-packages (from typer<1.0,>=0.12->gradio) (1.5.4)\n",
            "Requirement already satisfied: rich>=10.11.0 in /usr/local/lib/python3.11/dist-packages (from typer<1.0,>=0.12->gradio) (13.9.4)\n",
            "Requirement already satisfied: six>=1.5 in /usr/local/lib/python3.11/dist-packages (from python-dateutil>=2.8.2->pandas<3.0,>=1.0->gradio) (1.17.0)\n",
            "Requirement already satisfied: markdown-it-py>=2.2.0 in /usr/local/lib/python3.11/dist-packages (from rich>=10.11.0->typer<1.0,>=0.12->gradio) (3.0.0)\n",
            "Requirement already satisfied: pygments<3.0.0,>=2.13.0 in /usr/local/lib/python3.11/dist-packages (from rich>=10.11.0->typer<1.0,>=0.12->gradio) (2.18.0)\n",
            "Requirement already satisfied: charset-normalizer<4,>=2 in /usr/local/lib/python3.11/dist-packages (from requests->huggingface-hub>=0.28.1->gradio) (3.4.1)\n",
            "Requirement already satisfied: urllib3<3,>=1.21.1 in /usr/local/lib/python3.11/dist-packages (from requests->huggingface-hub>=0.28.1->gradio) (2.3.0)\n",
            "Requirement already satisfied: mdurl~=0.1 in /usr/local/lib/python3.11/dist-packages (from markdown-it-py>=2.2.0->rich>=10.11.0->typer<1.0,>=0.12->gradio) (0.1.2)\n",
            "Downloading gradio-5.22.0-py3-none-any.whl (46.2 MB)\n",
            "\u001b[2K   \u001b[90m━━━━━━━━━━━━━━━━━━━━━━━━━━━━━━━━━━━━━━━━\u001b[0m \u001b[32m46.2/46.2 MB\u001b[0m \u001b[31m11.2 MB/s\u001b[0m eta \u001b[36m0:00:00\u001b[0m\n",
            "\u001b[?25hDownloading gradio_client-1.8.0-py3-none-any.whl (322 kB)\n",
            "\u001b[2K   \u001b[90m━━━━━━━━━━━━━━━━━━━━━━━━━━━━━━━━━━━━━━━━\u001b[0m \u001b[32m322.2/322.2 kB\u001b[0m \u001b[31m26.6 MB/s\u001b[0m eta \u001b[36m0:00:00\u001b[0m\n",
            "\u001b[?25hDownloading aiofiles-23.2.1-py3-none-any.whl (15 kB)\n",
            "Downloading fastapi-0.115.11-py3-none-any.whl (94 kB)\n",
            "\u001b[2K   \u001b[90m━━━━━━━━━━━━━━━━━━━━━━━━━━━━━━━━━━━━━━━━\u001b[0m \u001b[32m94.9/94.9 kB\u001b[0m \u001b[31m8.0 MB/s\u001b[0m eta \u001b[36m0:00:00\u001b[0m\n",
            "\u001b[?25hDownloading groovy-0.1.2-py3-none-any.whl (14 kB)\n",
            "Downloading python_multipart-0.0.20-py3-none-any.whl (24 kB)\n",
            "Downloading ruff-0.11.1-py3-none-manylinux_2_17_x86_64.manylinux2014_x86_64.whl (11.3 MB)\n",
            "\u001b[2K   \u001b[90m━━━━━━━━━━━━━━━━━━━━━━━━━━━━━━━━━━━━━━━━\u001b[0m \u001b[32m11.3/11.3 MB\u001b[0m \u001b[31m61.2 MB/s\u001b[0m eta \u001b[36m0:00:00\u001b[0m\n",
            "\u001b[?25hDownloading safehttpx-0.1.6-py3-none-any.whl (8.7 kB)\n",
            "Downloading semantic_version-2.10.0-py2.py3-none-any.whl (15 kB)\n",
            "Downloading starlette-0.46.1-py3-none-any.whl (71 kB)\n",
            "\u001b[2K   \u001b[90m━━━━━━━━━━━━━━━━━━━━━━━━━━━━━━━━━━━━━━━━\u001b[0m \u001b[32m72.0/72.0 kB\u001b[0m \u001b[31m7.5 MB/s\u001b[0m eta \u001b[36m0:00:00\u001b[0m\n",
            "\u001b[?25hDownloading tomlkit-0.13.2-py3-none-any.whl (37 kB)\n",
            "Downloading uvicorn-0.34.0-py3-none-any.whl (62 kB)\n",
            "\u001b[2K   \u001b[90m━━━━━━━━━━━━━━━━━━━━━━━━━━━━━━━━━━━━━━━━\u001b[0m \u001b[32m62.3/62.3 kB\u001b[0m \u001b[31m6.9 MB/s\u001b[0m eta \u001b[36m0:00:00\u001b[0m\n",
            "\u001b[?25hDownloading ffmpy-0.5.0-py3-none-any.whl (6.0 kB)\n",
            "Downloading pydub-0.25.1-py2.py3-none-any.whl (32 kB)\n",
            "Installing collected packages: pydub, uvicorn, tomlkit, semantic-version, ruff, python-multipart, groovy, ffmpy, aiofiles, starlette, safehttpx, gradio-client, fastapi, gradio\n",
            "Successfully installed aiofiles-23.2.1 fastapi-0.115.11 ffmpy-0.5.0 gradio-5.22.0 gradio-client-1.8.0 groovy-0.1.2 pydub-0.25.1 python-multipart-0.0.20 ruff-0.11.1 safehttpx-0.1.6 semantic-version-2.10.0 starlette-0.46.1 tomlkit-0.13.2 uvicorn-0.34.0\n"
          ]
        }
      ]
    },
    {
      "cell_type": "code",
      "source": [
        "import numpy as np\n",
        "import gradio as gr"
      ],
      "metadata": {
        "id": "FEQFu7ycWQfF"
      },
      "execution_count": null,
      "outputs": []
    },
    {
      "cell_type": "code",
      "source": [
        "# sigmoid激發函數\n",
        "def sigmoid(x):\n",
        "    return 1/(1+np.exp(-x))\n",
        "\n",
        "# ReLU激發函數\n",
        "def relu(x):\n",
        "    return np.maximum(0, x)\n",
        "\n",
        "#Softmax函數\n",
        "def softmax(x):\n",
        "    c=np.max(x)\n",
        "    x = x - c\n",
        "    return np.exp(x) / np.sum(np.exp(x))\n",
        "\n",
        "# 定義dnn函數\n",
        "def dnn(x):\n",
        "  # 第一層隱藏層\n",
        "  W1=np.array([[0.1, 0.2, 0.3, 0.4, 0.5],\n",
        "        [0.2, 0.3, 0.4, 0.5, 0.6],\n",
        "        [0.3, 0.4, 0.5, 0.6, 0.7],\n",
        "        [0.7, 0.6, 0.5, 0.4, 0.3],\n",
        "        [0.6, 0.5, 0.4, 0.3, 0.2],\n",
        "        [0.5, 0.4, 0.3, 0.2, 0.1]])\n",
        "  b1=np.array([0.1, 0.2, 0.3, 0.4, 0.5])\n",
        "  z1=np.dot(x,W1)+b1\n",
        "  h1=relu(z1)\n",
        "\n",
        "  # 第二層隱藏層\n",
        "  W2=np.array([[0.1, 0.3, 0.5, 0.7],\n",
        "        [0.2, 0.4, 0.6, 0.8],\n",
        "        [0.3, 0.5, 0.7, 0.9],\n",
        "        [0.4, 0.6, 0.8, 0.1],\n",
        "        [0.5, 0.7, 0.9, 0.3]])\n",
        "  b2=np.array([0.1, 0.2, 0.3, 0.4])\n",
        "  z2=np.dot(h1,W2)+b2\n",
        "  h2=relu(z2)\n",
        "\n",
        "  # 第三層隱藏層\n",
        "  W3=np.array([[0.7, 0.6, 0.4, 0.3],\n",
        "        [0.4, 0.2, 0.1, 0.7],\n",
        "        [0.8, 0.4, 0.3, 0.5],\n",
        "        [0.1, 0.6, 0.9, 0.3]])\n",
        "  b3=np.array([0.1, 0.2, 0.3, 0.4])\n",
        "  z3=np.dot(h2,W3)+b3\n",
        "  h3=sigmoid(z3)\n",
        "\n",
        "  # 輸出層\n",
        "  W4=np.array([[0.3, 0.9, 0.4],\n",
        "        [0.2, 0.1, 0.6],\n",
        "        [0.6, 0.8, 0.5],\n",
        "        [0.7, 0.4, 0.9]])\n",
        "  b4=np.array([0.1, 0.2, 0.3])\n",
        "  z4=np.dot(h3,W4)+b4\n",
        "  y_hat=softmax(z4)\n",
        "\n",
        "  # 回傳機率最高的類別\n",
        "  return np.argmax(y_hat) + 1"
      ],
      "metadata": {
        "id": "EILy_NVeWwIM"
      },
      "execution_count": null,
      "outputs": []
    },
    {
      "cell_type": "code",
      "source": [
        "# 測試dnn函數\n",
        "x=np.array([-1.0, 1.0, 2.0, 3.0, 4.0, 5.0])\n",
        "y_hat = dnn(x)\n",
        "print(f\"dnn output: {y_hat}\")"
      ],
      "metadata": {
        "colab": {
          "base_uri": "https://localhost:8080/"
        },
        "id": "m9q-dfrrZeLl",
        "outputId": "7818f3d9-587b-4338-f35e-6892638119cb"
      },
      "execution_count": null,
      "outputs": [
        {
          "output_type": "stream",
          "name": "stdout",
          "text": [
            "dnn output: 3\n"
          ]
        }
      ]
    },
    {
      "cell_type": "code",
      "source": [
        "# 建立 Gradio 介面\n",
        "def predict(x1, x2, x3, x4, x5, x6):\n",
        "  x = np.array([x1, x2, x3, x4, x5, x6])\n",
        "  y_hat = dnn(x)\n",
        "  return np.argmax(y_hat) + 1\n",
        "\n",
        "inputs = [gr.Number(label=f\"特徵{i}\") for i in range(7)]\n",
        "outputs = gr.Number(label=\"預測類別\")\n",
        "\n",
        "# 啟動gradio應用\n",
        "interface = gr.Interface(fn=predict, inputs=inputs, outputs=outputs)\n",
        "\n",
        "interface.launch()"
      ],
      "metadata": {
        "colab": {
          "base_uri": "https://localhost:8080/",
          "height": 715
        },
        "id": "vZRTRu9rbuCc",
        "outputId": "8df44da9-1e34-4e49-aa41-d048f997378e"
      },
      "execution_count": null,
      "outputs": [
        {
          "output_type": "stream",
          "name": "stderr",
          "text": [
            "/usr/local/lib/python3.11/dist-packages/gradio/utils.py:1024: UserWarning: Expected 6 arguments for function <function predict at 0x7acef1bdc4a0>, received 7.\n",
            "  warnings.warn(\n",
            "/usr/local/lib/python3.11/dist-packages/gradio/utils.py:1032: UserWarning: Expected maximum 6 arguments for function <function predict at 0x7acef1bdc4a0>, received 7.\n",
            "  warnings.warn(\n"
          ]
        },
        {
          "output_type": "stream",
          "name": "stdout",
          "text": [
            "Running Gradio in a Colab notebook requires sharing enabled. Automatically setting `share=True` (you can turn this off by setting `share=False` in `launch()` explicitly).\n",
            "\n",
            "Colab notebook detected. To show errors in colab notebook, set debug=True in launch()\n",
            "* Running on public URL: https://8b9f5cd39588785f49.gradio.live\n",
            "\n",
            "This share link expires in 72 hours. For free permanent hosting and GPU upgrades, run `gradio deploy` from the terminal in the working directory to deploy to Hugging Face Spaces (https://huggingface.co/spaces)\n"
          ]
        },
        {
          "output_type": "display_data",
          "data": {
            "text/plain": [
              "<IPython.core.display.HTML object>"
            ],
            "text/html": [
              "<div><iframe src=\"https://8b9f5cd39588785f49.gradio.live\" width=\"100%\" height=\"500\" allow=\"autoplay; camera; microphone; clipboard-read; clipboard-write;\" frameborder=\"0\" allowfullscreen></iframe></div>"
            ]
          },
          "metadata": {}
        },
        {
          "output_type": "execute_result",
          "data": {
            "text/plain": []
          },
          "metadata": {},
          "execution_count": 65
        }
      ]
    }
  ]
}