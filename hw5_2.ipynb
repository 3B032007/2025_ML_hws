{
  "nbformat": 4,
  "nbformat_minor": 0,
  "metadata": {
    "colab": {
      "provenance": [],
      "toc_visible": true,
      "authorship_tag": "ABX9TyNmPSZ5IPVwdJ3vbNohTCtv",
      "include_colab_link": true
    },
    "kernelspec": {
      "name": "python3",
      "display_name": "Python 3"
    },
    "language_info": {
      "name": "python"
    }
  },
  "cells": [
    {
      "cell_type": "markdown",
      "metadata": {
        "id": "view-in-github",
        "colab_type": "text"
      },
      "source": [
        "<a href=\"https://colab.research.google.com/github/3B032007/2025_ML_hws/blob/main/hw5_2.ipynb\" target=\"_parent\"><img src=\"https://colab.research.google.com/assets/colab-badge.svg\" alt=\"Open In Colab\"/></a>"
      ]
    },
    {
      "cell_type": "code",
      "execution_count": 1,
      "metadata": {
        "id": "5Mv_RiYaUv4Q"
      },
      "outputs": [],
      "source": [
        "%matplotlib inline\n",
        "\n",
        "import numpy as np\n",
        "import pandas as pd\n",
        "import matplotlib.pyplot as plt"
      ]
    },
    {
      "cell_type": "markdown",
      "source": [
        "# 1. 將存好的模型和訓練權重讀回來"
      ],
      "metadata": {
        "id": "ZWjF1-8rVXVs"
      }
    },
    {
      "cell_type": "code",
      "source": [
        "from google.colab import drive\n",
        "\n",
        "drive.mount('/content/drive')"
      ],
      "metadata": {
        "colab": {
          "base_uri": "https://localhost:8080/"
        },
        "id": "WRZAPQXfVdTc",
        "outputId": "d5f826e2-720c-4461-e607-82b05493ca68"
      },
      "execution_count": 2,
      "outputs": [
        {
          "output_type": "stream",
          "name": "stdout",
          "text": [
            "Mounted at /content/drive\n"
          ]
        }
      ]
    },
    {
      "cell_type": "code",
      "source": [
        "%cd '/content/drive/My Drive/Colab Notebooks'"
      ],
      "metadata": {
        "colab": {
          "base_uri": "https://localhost:8080/"
        },
        "id": "5uvX-hXYVmAF",
        "outputId": "68b8ca82-3b20-4962-e55e-53b53d6f999b"
      },
      "execution_count": 3,
      "outputs": [
        {
          "output_type": "stream",
          "name": "stdout",
          "text": [
            "/content/drive/My Drive/Colab Notebooks\n"
          ]
        }
      ]
    },
    {
      "cell_type": "code",
      "source": [
        "from tensorflow.keras.models import model_from_json"
      ],
      "metadata": {
        "id": "QWIe41AkVq6P"
      },
      "execution_count": 4,
      "outputs": []
    },
    {
      "cell_type": "code",
      "source": [
        "model = model_from_json(open('imdb_model_architecture.json').read())\n",
        "model.load_weights('imdb_model.weights.h5')"
      ],
      "metadata": {
        "id": "zdIzNvhYVsgl"
      },
      "execution_count": 10,
      "outputs": []
    },
    {
      "cell_type": "code",
      "source": [
        "model.compile(loss='binary_crossentropy',\n",
        "             optimizer='adam',\n",
        "             metrics=['accuracy'])"
      ],
      "metadata": {
        "id": "f8CA2nsvWZ69"
      },
      "execution_count": 11,
      "outputs": []
    },
    {
      "cell_type": "code",
      "source": [
        "model.summary()"
      ],
      "metadata": {
        "colab": {
          "base_uri": "https://localhost:8080/",
          "height": 225
        },
        "id": "KYqUjP8sWapI",
        "outputId": "efad2e54-7f09-4606-86ab-738419009c3b"
      },
      "execution_count": 12,
      "outputs": [
        {
          "output_type": "display_data",
          "data": {
            "text/plain": [
              "\u001b[1mModel: \"sequential\"\u001b[0m\n"
            ],
            "text/html": [
              "<pre style=\"white-space:pre;overflow-x:auto;line-height:normal;font-family:Menlo,'DejaVu Sans Mono',consolas,'Courier New',monospace\"><span style=\"font-weight: bold\">Model: \"sequential\"</span>\n",
              "</pre>\n"
            ]
          },
          "metadata": {}
        },
        {
          "output_type": "display_data",
          "data": {
            "text/plain": [
              "┏━━━━━━━━━━━━━━━━━━━━━━━━━━━━━━━━━┳━━━━━━━━━━━━━━━━━━━━━━━━┳━━━━━━━━━━━━━━━┓\n",
              "┃\u001b[1m \u001b[0m\u001b[1mLayer (type)                   \u001b[0m\u001b[1m \u001b[0m┃\u001b[1m \u001b[0m\u001b[1mOutput Shape          \u001b[0m\u001b[1m \u001b[0m┃\u001b[1m \u001b[0m\u001b[1m      Param #\u001b[0m\u001b[1m \u001b[0m┃\n",
              "┡━━━━━━━━━━━━━━━━━━━━━━━━━━━━━━━━━╇━━━━━━━━━━━━━━━━━━━━━━━━╇━━━━━━━━━━━━━━━┩\n",
              "│ embedding (\u001b[38;5;33mEmbedding\u001b[0m)           │ (\u001b[38;5;45mNone\u001b[0m, \u001b[38;5;34m100\u001b[0m, \u001b[38;5;34m32\u001b[0m)        │        \u001b[38;5;34m64,000\u001b[0m │\n",
              "├─────────────────────────────────┼────────────────────────┼───────────────┤\n",
              "│ lstm (\u001b[38;5;33mLSTM\u001b[0m)                     │ (\u001b[38;5;45mNone\u001b[0m, \u001b[38;5;34m128\u001b[0m)            │        \u001b[38;5;34m82,432\u001b[0m │\n",
              "├─────────────────────────────────┼────────────────────────┼───────────────┤\n",
              "│ dense (\u001b[38;5;33mDense\u001b[0m)                   │ (\u001b[38;5;45mNone\u001b[0m, \u001b[38;5;34m1\u001b[0m)              │           \u001b[38;5;34m129\u001b[0m │\n",
              "└─────────────────────────────────┴────────────────────────┴───────────────┘\n"
            ],
            "text/html": [
              "<pre style=\"white-space:pre;overflow-x:auto;line-height:normal;font-family:Menlo,'DejaVu Sans Mono',consolas,'Courier New',monospace\">┏━━━━━━━━━━━━━━━━━━━━━━━━━━━━━━━━━┳━━━━━━━━━━━━━━━━━━━━━━━━┳━━━━━━━━━━━━━━━┓\n",
              "┃<span style=\"font-weight: bold\"> Layer (type)                    </span>┃<span style=\"font-weight: bold\"> Output Shape           </span>┃<span style=\"font-weight: bold\">       Param # </span>┃\n",
              "┡━━━━━━━━━━━━━━━━━━━━━━━━━━━━━━━━━╇━━━━━━━━━━━━━━━━━━━━━━━━╇━━━━━━━━━━━━━━━┩\n",
              "│ embedding (<span style=\"color: #0087ff; text-decoration-color: #0087ff\">Embedding</span>)           │ (<span style=\"color: #00d7ff; text-decoration-color: #00d7ff\">None</span>, <span style=\"color: #00af00; text-decoration-color: #00af00\">100</span>, <span style=\"color: #00af00; text-decoration-color: #00af00\">32</span>)        │        <span style=\"color: #00af00; text-decoration-color: #00af00\">64,000</span> │\n",
              "├─────────────────────────────────┼────────────────────────┼───────────────┤\n",
              "│ lstm (<span style=\"color: #0087ff; text-decoration-color: #0087ff\">LSTM</span>)                     │ (<span style=\"color: #00d7ff; text-decoration-color: #00d7ff\">None</span>, <span style=\"color: #00af00; text-decoration-color: #00af00\">128</span>)            │        <span style=\"color: #00af00; text-decoration-color: #00af00\">82,432</span> │\n",
              "├─────────────────────────────────┼────────────────────────┼───────────────┤\n",
              "│ dense (<span style=\"color: #0087ff; text-decoration-color: #0087ff\">Dense</span>)                   │ (<span style=\"color: #00d7ff; text-decoration-color: #00d7ff\">None</span>, <span style=\"color: #00af00; text-decoration-color: #00af00\">1</span>)              │           <span style=\"color: #00af00; text-decoration-color: #00af00\">129</span> │\n",
              "└─────────────────────────────────┴────────────────────────┴───────────────┘\n",
              "</pre>\n"
            ]
          },
          "metadata": {}
        },
        {
          "output_type": "display_data",
          "data": {
            "text/plain": [
              "\u001b[1m Total params: \u001b[0m\u001b[38;5;34m146,561\u001b[0m (572.50 KB)\n"
            ],
            "text/html": [
              "<pre style=\"white-space:pre;overflow-x:auto;line-height:normal;font-family:Menlo,'DejaVu Sans Mono',consolas,'Courier New',monospace\"><span style=\"font-weight: bold\"> Total params: </span><span style=\"color: #00af00; text-decoration-color: #00af00\">146,561</span> (572.50 KB)\n",
              "</pre>\n"
            ]
          },
          "metadata": {}
        },
        {
          "output_type": "display_data",
          "data": {
            "text/plain": [
              "\u001b[1m Trainable params: \u001b[0m\u001b[38;5;34m146,561\u001b[0m (572.50 KB)\n"
            ],
            "text/html": [
              "<pre style=\"white-space:pre;overflow-x:auto;line-height:normal;font-family:Menlo,'DejaVu Sans Mono',consolas,'Courier New',monospace\"><span style=\"font-weight: bold\"> Trainable params: </span><span style=\"color: #00af00; text-decoration-color: #00af00\">146,561</span> (572.50 KB)\n",
              "</pre>\n"
            ]
          },
          "metadata": {}
        },
        {
          "output_type": "display_data",
          "data": {
            "text/plain": [
              "\u001b[1m Non-trainable params: \u001b[0m\u001b[38;5;34m0\u001b[0m (0.00 B)\n"
            ],
            "text/html": [
              "<pre style=\"white-space:pre;overflow-x:auto;line-height:normal;font-family:Menlo,'DejaVu Sans Mono',consolas,'Courier New',monospace\"><span style=\"font-weight: bold\"> Non-trainable params: </span><span style=\"color: #00af00; text-decoration-color: #00af00\">0</span> (0.00 B)\n",
              "</pre>\n"
            ]
          },
          "metadata": {}
        }
      ]
    },
    {
      "cell_type": "markdown",
      "source": [
        "# 2. 載入自行建立的tokenizer"
      ],
      "metadata": {
        "id": "lr0TAmiOWg2j"
      }
    },
    {
      "cell_type": "code",
      "source": [
        "import pickle\n",
        "f = open('imdb_tokenizer.pkl', 'rb')\n",
        "tokens = pickle.load(f)\n",
        "f.close()"
      ],
      "metadata": {
        "id": "ysT0onVSWcRE"
      },
      "execution_count": 14,
      "outputs": []
    },
    {
      "cell_type": "code",
      "source": [
        "from tensorflow.keras.preprocessing import sequence"
      ],
      "metadata": {
        "id": "rFxOm7DLWnTe"
      },
      "execution_count": 15,
      "outputs": []
    },
    {
      "cell_type": "markdown",
      "source": [
        "# 3. 輸入實際由IMDb取得的影評"
      ],
      "metadata": {
        "id": "aLBA_1NIWsIU"
      }
    },
    {
      "cell_type": "code",
      "source": [
        "input_text= '''\n",
        "Sure, I'm a huge film snob who (on the surface) only likes artsy-fartsy foreign films from before the 60's, but that hasn't stopped me from loving Disney's Beauty & The Beast; in fact, it's probably my favorite American animated film and is easily Disney's finest work. It's beautiful, it's breathtaking, it's warm, it's hilarious, it's captivating, and, in Disney fashion, it's magical. When I learned that Disney would be remaking their classic films, B&TB was undeniably the best wrapped package. How could they go wrong?\n",
        "Oh man, they went wrong.\n",
        "First thing's first: this film is so flat. The directing was dull and uninteresting throughout the entire film and it honestly felt like one of the Twilight sequels...and then I looked it up and found out that, yes, director Bill Condon was the man behind Breaking Dawn parts 1 & 2. Every shot looks bored and uninterested, which contrasts heavily with the original animated film that was constantly popping with vibrancy. The script too is boring because it's almost a complete remake of the original, though I guess most people won't mind that.\n",
        "Next: the CGI is horrid. Although I didn't care for The Jungle Book from last year, I could at least admit that the CGI was breathtaking. The same cant be said for this film. Characters like Lumière, Cogsworth, Mrs Potts, and most of the cursed appliances have very strange, lifeless faces that are pretty off putting to be looking at for such a long time. All of the sets too look artificial and fake, especially the town towards the beginning. However, the biggest offender is easily and infuriatingly the character that mattered most: The Beast. The CGI on the Beast's face is so distracting that it completely takes you out of the film. His eyes are completely devoid of soul, and his mouth is a gaping video game black hole of fiction. Klaus Kinski looked much better in the Faerie Tale Theatre episode of Beauty & The Beast, and that was a 1984 TV show episode. But do you know why it looked better? Because it was an actual face with actual eyes, not some video game computerized synthetic monstrosity. When will studios learn that practical effects will always top CGI?\n",
        "Finally: wasted casting. Emma Watson is beautiful, but she's no Belle. She is completely devoid of the warmth and humanity that made the animated Belle so beloved. Instead, she is cold and heartless throughout most of the film. Kevin Kline is 100% wasted and does nothing except look old. Ian McKellan, Ewan McGregor, Emma Thompson, and even Dan Stevens as the Beast are very expendable and could've been played by anyone else. The only good characters are Gaston and LeFou, mostly because they are fun and played by actors who breathe new life into their original shapes. If anything, this film should've been about Gaston and LeFou, but that would never happen because that would mean Disney couldn't cater to blind nostalgic 90's kids.\n",
        "Overall, this film is a complete bore. It could've been better if even the special effects were good, but the CGI in particular is horrendous. I'm all for Disney remaking their nostalgia- catering 90's films, but they need to be interesting. This film, sadly, is not. Even the Christmas sequel is better than this film because it's at least something.\n",
        "'''"
      ],
      "metadata": {
        "id": "vRECjTkaWt6N"
      },
      "execution_count": 16,
      "outputs": []
    },
    {
      "cell_type": "markdown",
      "source": [
        "# 4. 轉換影評文字串為數字串，並截長或補短，使數字串長度為100"
      ],
      "metadata": {
        "id": "AWs8hOjwWybp"
      }
    },
    {
      "cell_type": "code",
      "source": [
        "input_seq = tokens.texts_to_sequences([input_text])"
      ],
      "metadata": {
        "id": "bECiWppSWzbq"
      },
      "execution_count": 17,
      "outputs": []
    },
    {
      "cell_type": "code",
      "source": [
        "pad_input_seq  = sequence.pad_sequences(input_seq , maxlen=100)"
      ],
      "metadata": {
        "id": "Js3SDo-cW6-3"
      },
      "execution_count": 18,
      "outputs": []
    },
    {
      "cell_type": "code",
      "source": [
        "pad_input_seq"
      ],
      "metadata": {
        "colab": {
          "base_uri": "https://localhost:8080/"
        },
        "id": "v6mf4tswW8GJ",
        "outputId": "69374dd3-9956-4111-91d0-b032d5c20e08"
      },
      "execution_count": 19,
      "outputs": [
        {
          "output_type": "execute_result",
          "data": {
            "text/plain": [
              "array([[   2,   73,  252,   30,  255,  331,    1,   60,   48,  101,   22,\n",
              "           2,  664,   84,   32,   22,  249,    2,  252,   30,  152,   33,\n",
              "         157,  109,   79,   64,  200,   44,  228,   10,   18,   73,   40,\n",
              "           2,   17,   11,   58,  111,  589,   84,   11,   58,  377,  907,\n",
              "         422,    5,  359,  442,   10,   18,    6,    3,  596,    8,   73,\n",
              "         124,   44,   56,    1,  314,  297,   67,   48,   17,    1, 1676,\n",
              "           7,  839,    6,  142,   28,   14,  907,   64,  104,   17,   32,\n",
              "         355,    5,   25,  217,   10,   18, 1033,    6,   20,   56,    1,\n",
              "         975,  750,    6,  124,   70,   10,   18,   84,   41,   29,  218,\n",
              "         138]], dtype=int32)"
            ]
          },
          "metadata": {},
          "execution_count": 19
        }
      ]
    },
    {
      "cell_type": "code",
      "source": [
        "# 測試將影評數字串還原為文字串\n",
        "pad_input_text = tokens.sequences_to_texts(pad_input_seq)"
      ],
      "metadata": {
        "id": "PFN_9k79XApW"
      },
      "execution_count": 21,
      "outputs": []
    },
    {
      "cell_type": "code",
      "source": [
        "pad_input_text"
      ],
      "metadata": {
        "colab": {
          "base_uri": "https://localhost:8080/"
        },
        "id": "k0WQF1TSXCqB",
        "outputId": "a22af23e-e784-4f5c-f138-72f3b0d6fa14"
      },
      "execution_count": 22,
      "outputs": [
        {
          "output_type": "execute_result",
          "data": {
            "text/plain": [
              "[\"and been played by anyone else the only good characters are and mostly because they are fun and played by actors who new life into their original if anything this film been about and but that would never happen because that would mean disney couldn't to kids overall this film is a complete it been better if even the special effects were good but the cgi in particular is i'm all for disney their films but they need to be interesting this film sadly is not even the christmas sequel is better than this film because it's at least something\"]"
            ]
          },
          "metadata": {},
          "execution_count": 22
        }
      ]
    },
    {
      "cell_type": "markdown",
      "source": [
        "# 5. 輸入影評(數字串，長度為100)進行情意預測"
      ],
      "metadata": {
        "id": "gXkxck1OXHG5"
      }
    },
    {
      "cell_type": "code",
      "source": [
        "predict_result=model.predict(pad_input_seq)\n"
      ],
      "metadata": {
        "colab": {
          "base_uri": "https://localhost:8080/"
        },
        "id": "tfTEiXSgXIRU",
        "outputId": "83206de5-2210-45de-a713-a2954b9400cb"
      },
      "execution_count": 23,
      "outputs": [
        {
          "output_type": "stream",
          "name": "stdout",
          "text": [
            "\u001b[1m1/1\u001b[0m \u001b[32m━━━━━━━━━━━━━━━━━━━━\u001b[0m\u001b[37m\u001b[0m \u001b[1m0s\u001b[0m 310ms/step\n"
          ]
        }
      ]
    },
    {
      "cell_type": "code",
      "source": [
        "predict_result"
      ],
      "metadata": {
        "colab": {
          "base_uri": "https://localhost:8080/"
        },
        "id": "DWWzhXDpXN_9",
        "outputId": "c1c66c41-aef4-4659-ed93-cc0271507285"
      },
      "execution_count": 24,
      "outputs": [
        {
          "output_type": "execute_result",
          "data": {
            "text/plain": [
              "array([[0.02290325]], dtype=float32)"
            ]
          },
          "metadata": {},
          "execution_count": 24
        }
      ]
    },
    {
      "cell_type": "code",
      "source": [
        "predict_result[0][0]"
      ],
      "metadata": {
        "colab": {
          "base_uri": "https://localhost:8080/"
        },
        "id": "FMk4RHZpXQgW",
        "outputId": "e223e3ff-bce7-431c-a7ba-c9f1502a2ec3"
      },
      "execution_count": 25,
      "outputs": [
        {
          "output_type": "execute_result",
          "data": {
            "text/plain": [
              "np.float32(0.022903254)"
            ]
          },
          "metadata": {},
          "execution_count": 25
        }
      ]
    },
    {
      "cell_type": "code",
      "source": [
        "SentimentDict={1:'正面的',0:'負面的'}"
      ],
      "metadata": {
        "id": "o_v1g1UuXSgD"
      },
      "execution_count": 26,
      "outputs": []
    },
    {
      "cell_type": "code",
      "source": [
        "SentimentDict[round(predict_result[0][0])]"
      ],
      "metadata": {
        "colab": {
          "base_uri": "https://localhost:8080/",
          "height": 36
        },
        "id": "BECDq28FXVOo",
        "outputId": "16e7b3f6-4fcd-4338-8322-5530fa7671bb"
      },
      "execution_count": 27,
      "outputs": [
        {
          "output_type": "execute_result",
          "data": {
            "text/plain": [
              "'負面的'"
            ],
            "application/vnd.google.colaboratory.intrinsic+json": {
              "type": "string"
            }
          },
          "metadata": {},
          "execution_count": 27
        }
      ]
    },
    {
      "cell_type": "markdown",
      "source": [
        "# 6. 建立predict_review函數"
      ],
      "metadata": {
        "id": "OtlDV8n9XYg6"
      }
    },
    {
      "cell_type": "code",
      "source": [
        "def predict_review(input_text):\n",
        "  # 轉換影評文字串為數字串，並截長或補短，使數字串長度為100\n",
        "  input_seq = tokens.texts_to_sequences([input_text])\n",
        "  pad_input_seq  = sequence.pad_sequences(input_seq , maxlen=100)\n",
        "  predict_result = model.predict(pad_input_seq)\n",
        "\n",
        "  SentimentDict = {1: '正面的', 0: '負面的'}\n",
        "  return SentimentDict[round(predict_result[0][0])]\n",
        "\n",
        "prediction = predict_review(input_text)\n",
        "print(f\"這篇影評的情意是: {prediction}\")"
      ],
      "metadata": {
        "colab": {
          "base_uri": "https://localhost:8080/"
        },
        "id": "BP4H4eNOXZkJ",
        "outputId": "0dcaec4f-eb85-4be9-9eda-7b38e83d09cd"
      },
      "execution_count": 28,
      "outputs": [
        {
          "output_type": "stream",
          "name": "stdout",
          "text": [
            "\u001b[1m1/1\u001b[0m \u001b[32m━━━━━━━━━━━━━━━━━━━━\u001b[0m\u001b[37m\u001b[0m \u001b[1m0s\u001b[0m 53ms/step\n",
            "這篇影評的情意是: 負面的\n"
          ]
        }
      ]
    },
    {
      "cell_type": "markdown",
      "source": [
        "# 7. 影評情意預測"
      ],
      "metadata": {
        "id": "si5WtoWPYQrX"
      }
    },
    {
      "cell_type": "code",
      "source": [
        "# URL：https://www.imdb.com/title/tt9603208/reviews/?item=rw10517261&ref_=ext_shr_lnk\n",
        "\n",
        "input_text_1 = '''\n",
        "Ignore the critics. This was an absolutely fun and super entertaining movie. It was long but never dragged. In fact from the moment I sat in my seat I was at the cinema for over 3 hours. But it never felt like that.\n",
        "\n",
        "The climax with the bi-planes was superb and one of the best and most exciting action scenes I've ever seen.\n",
        "\n",
        "For me, this was one of the best Mission Impossible films. Loved it. Have no idea why some of the critics have panned it. Then again what do they know? It's all about having fun on the big screen and this is exactly what Tom Cruise does best. He's an absolute master in it. Highly recommend!\n",
        "'''"
      ],
      "metadata": {
        "id": "8788CdRBYR2j"
      },
      "execution_count": 30,
      "outputs": []
    },
    {
      "cell_type": "code",
      "source": [
        "predict_review(input_text_1)"
      ],
      "metadata": {
        "colab": {
          "base_uri": "https://localhost:8080/",
          "height": 53
        },
        "id": "y2H10-ooZozz",
        "outputId": "c3933564-df59-44d4-d98b-d07540d6818c"
      },
      "execution_count": 31,
      "outputs": [
        {
          "output_type": "stream",
          "name": "stdout",
          "text": [
            "\u001b[1m1/1\u001b[0m \u001b[32m━━━━━━━━━━━━━━━━━━━━\u001b[0m\u001b[37m\u001b[0m \u001b[1m0s\u001b[0m 54ms/step\n"
          ]
        },
        {
          "output_type": "execute_result",
          "data": {
            "text/plain": [
              "'正面的'"
            ],
            "application/vnd.google.colaboratory.intrinsic+json": {
              "type": "string"
            }
          },
          "metadata": {},
          "execution_count": 31
        }
      ]
    },
    {
      "cell_type": "code",
      "source": [
        "# https://www.imdb.com/title/tt30840798/reviews/?item=rw10530199&ref_=ext_shr_lnk\n",
        "\n",
        "input_text_2 = '''\n",
        "...but I just can't hack it anymore. His last three films have all been increasingly tedious. Best I can describe them is as a slog. Yes there is whimsy and great camera work and attention to detail, but the soul (always so present in his early work) is entirely gone. I'm really hoping he has a return to form and brings us something close to the mastery of what came before, or his last great film Grand Budapest, but I fear he is only going further down his ornate, soulless rabbit hole. It has its moments, but if you have felt, as I have, that is past few films have been a bit of a chore, you will be itching for the end credits.\n",
        "'''"
      ],
      "metadata": {
        "id": "HoYq_pPoZqcg"
      },
      "execution_count": 34,
      "outputs": []
    },
    {
      "cell_type": "code",
      "source": [
        "predict_review(input_text_2)"
      ],
      "metadata": {
        "colab": {
          "base_uri": "https://localhost:8080/",
          "height": 53
        },
        "id": "bnIxGH2XaCam",
        "outputId": "45a13642-6875-490a-e7bc-1746edc71df8"
      },
      "execution_count": 35,
      "outputs": [
        {
          "output_type": "stream",
          "name": "stdout",
          "text": [
            "\u001b[1m1/1\u001b[0m \u001b[32m━━━━━━━━━━━━━━━━━━━━\u001b[0m\u001b[37m\u001b[0m \u001b[1m0s\u001b[0m 51ms/step\n"
          ]
        },
        {
          "output_type": "execute_result",
          "data": {
            "text/plain": [
              "'正面的'"
            ],
            "application/vnd.google.colaboratory.intrinsic+json": {
              "type": "string"
            }
          },
          "metadata": {},
          "execution_count": 35
        }
      ]
    },
    {
      "cell_type": "code",
      "source": [
        "# https://www.imdb.com/title/tt1179056/reviews/?item=rw2243185&ref_=ext_shr_lnk\n",
        "\n",
        "input_text3 = '''\n",
        "This movie was awful. The script was weak. It was a sad knock off of the original Nightmare with less special effects. I see why Robert Englund wasn't in this movie. It wasn't worth it. I'm sooooo disappointed. I yawned more than anything and I wasn't scared not once. I really wanted this to be a good remake, but it wasn't. The special effects were 1980s at best. The acting was pretty good, but the script lacked originality and depth. The twist was stupid. I felt like I was watching the original Freddy only unscary, unfunny, and uninteresting. I expected a much better production with today's technology. It was like eating spam when you think you'll have steak. It was taking a cruise and never leaving the port. It was a let down. This movie is awful.\n",
        "\n",
        "'''"
      ],
      "metadata": {
        "id": "AdWdyw3oaHED"
      },
      "execution_count": 36,
      "outputs": []
    },
    {
      "cell_type": "code",
      "source": [
        "predict_review(input_text3)"
      ],
      "metadata": {
        "colab": {
          "base_uri": "https://localhost:8080/",
          "height": 53
        },
        "id": "-CeyHaNlaHdf",
        "outputId": "141b4b6e-6427-47b2-bf7e-3fa2d4e8ff82"
      },
      "execution_count": 37,
      "outputs": [
        {
          "output_type": "stream",
          "name": "stdout",
          "text": [
            "\u001b[1m1/1\u001b[0m \u001b[32m━━━━━━━━━━━━━━━━━━━━\u001b[0m\u001b[37m\u001b[0m \u001b[1m0s\u001b[0m 57ms/step\n"
          ]
        },
        {
          "output_type": "execute_result",
          "data": {
            "text/plain": [
              "'負面的'"
            ],
            "application/vnd.google.colaboratory.intrinsic+json": {
              "type": "string"
            }
          },
          "metadata": {},
          "execution_count": 37
        }
      ]
    },
    {
      "cell_type": "markdown",
      "source": [
        "# 8. 用 Gradio 打造情意分析 Web App"
      ],
      "metadata": {
        "id": "lnOIcousbKDz"
      }
    },
    {
      "cell_type": "code",
      "source": [
        "import gradio as gr"
      ],
      "metadata": {
        "id": "HH2rvLmqa44-"
      },
      "execution_count": 38,
      "outputs": []
    },
    {
      "cell_type": "code",
      "source": [
        "demo = gr.Interface(\n",
        "    fn=predict_review,\n",
        "    inputs=gr.Textbox(lines=5, placeholder=\"請輸入一段電影評論...\"),\n",
        "    outputs=\"text\",\n",
        "    title=\"IMDB 電影評論情緒判斷\",\n",
        "    description=\"輸入一段影評，我會判斷它是正面還是負面!\"\n",
        ")\n",
        "demo.launch()"
      ],
      "metadata": {
        "colab": {
          "base_uri": "https://localhost:8080/",
          "height": 646
        },
        "id": "GC6NOZFHa7d9",
        "outputId": "ad2c7276-daf2-4172-a5f2-519142cfe4dc"
      },
      "execution_count": 42,
      "outputs": [
        {
          "output_type": "stream",
          "name": "stdout",
          "text": [
            "It looks like you are running Gradio on a hosted a Jupyter notebook. For the Gradio app to work, sharing must be enabled. Automatically setting `share=True` (you can turn this off by setting `share=False` in `launch()` explicitly).\n",
            "\n",
            "Colab notebook detected. To show errors in colab notebook, set debug=True in launch()\n",
            "* Running on public URL: https://9db0078cec84df91b7.gradio.live\n",
            "\n",
            "This share link expires in 1 week. For free permanent hosting and GPU upgrades, run `gradio deploy` from the terminal in the working directory to deploy to Hugging Face Spaces (https://huggingface.co/spaces)\n"
          ]
        },
        {
          "output_type": "display_data",
          "data": {
            "text/plain": [
              "<IPython.core.display.HTML object>"
            ],
            "text/html": [
              "<div><iframe src=\"https://9db0078cec84df91b7.gradio.live\" width=\"100%\" height=\"500\" allow=\"autoplay; camera; microphone; clipboard-read; clipboard-write;\" frameborder=\"0\" allowfullscreen></iframe></div>"
            ]
          },
          "metadata": {}
        },
        {
          "output_type": "execute_result",
          "data": {
            "text/plain": []
          },
          "metadata": {},
          "execution_count": 42
        }
      ]
    }
  ]
}