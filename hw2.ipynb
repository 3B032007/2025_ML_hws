{
  "nbformat": 4,
  "nbformat_minor": 0,
  "metadata": {
    "colab": {
      "provenance": [],
      "authorship_tag": "ABX9TyO9UoU0gdiDIogxnGvcNQ5Y",
      "include_colab_link": true
    },
    "kernelspec": {
      "name": "python3",
      "display_name": "Python 3"
    },
    "language_info": {
      "name": "python"
    }
  },
  "cells": [
    {
      "cell_type": "markdown",
      "metadata": {
        "id": "view-in-github",
        "colab_type": "text"
      },
      "source": [
        "<a href=\"https://colab.research.google.com/github/3B032007/2025_ML_hws/blob/main/hw2.ipynb\" target=\"_parent\"><img src=\"https://colab.research.google.com/assets/colab-badge.svg\" alt=\"Open In Colab\"/></a>"
      ]
    },
    {
      "cell_type": "markdown",
      "source": [
        "# 作業2 模擬多隱藏層的全連接神經網路-批次學習"
      ],
      "metadata": {
        "id": "qbpk32JOvAX9"
      }
    },
    {
      "cell_type": "markdown",
      "source": [
        "## 1、定義各個激發函數"
      ],
      "metadata": {
        "id": "KIEwhYkNvO1T"
      }
    },
    {
      "cell_type": "code",
      "execution_count": null,
      "metadata": {
        "id": "Mljnj3zxtnHJ"
      },
      "outputs": [],
      "source": [
        "import numpy as np\n",
        "# sigmoid激發函數\n",
        "def sigmoid(x):\n",
        "    return 1/(1+np.exp(-x))\n",
        "\n",
        "# ReLU激發函數\n",
        "def relu(x):\n",
        "    return np.maximum(0, x)\n",
        "\n",
        "#Softmax函數\n",
        "def softmax(x):\n",
        "    x = x - np.max(x, axis=-1, keepdims=True)\n",
        "    return np.exp(x) / np.sum(np.exp(x), axis=-1, keepdims=True)"
      ]
    },
    {
      "cell_type": "markdown",
      "source": [
        "## 2、輸入層批次輸入五筆資料(每筆6個神經元)"
      ],
      "metadata": {
        "id": "K-yd4Cx0vVUF"
      }
    },
    {
      "cell_type": "code",
      "source": [
        "batch_size=5\n",
        "\n",
        "# 五筆資料 每筆6個神經元 = 5x6矩陣\n",
        "X = np.array([[12.0, -7.0, 9.0, -3.0, 5.0, -10.0],\n",
        "        [-14.0, 6.0, -8.0, 11.0, -2.0, 4.0],\n",
        "        [3.0, -12.0, 7.0, -5.0, 10.0, 1.0],\n",
        "        [-9.0, 14.0, -6.0, 8.0, -1.0, 13.0],\n",
        "        [2.0, -11.0, 4.0, -15.0, 7.0, 1.0]])\n",
        "\n",
        "# 真實結果\n",
        "Y=np.array([[0, 0, 1], [1, 0, 0], [0, 1, 0], [0, 0, 1], [1, 0, 0]])"
      ],
      "metadata": {
        "id": "Wo5CmtwOyVQo"
      },
      "execution_count": null,
      "outputs": []
    },
    {
      "cell_type": "markdown",
      "source": [
        "## 3、第一層隱藏層5個神經元"
      ],
      "metadata": {
        "id": "J4UI0VoJ0dPO"
      }
    },
    {
      "cell_type": "code",
      "source": [
        "W1=np.array([[0.1, 0.2, 0.3, 0.4, 0.5],\n",
        "      [0.2, 0.3, 0.4, 0.5, 0.6],\n",
        "      [0.3, 0.4, 0.5, 0.6, 0.7],\n",
        "      [0.7, 0.6, 0.5, 0.4, 0.3],\n",
        "      [0.6, 0.5, 0.4, 0.3, 0.2],\n",
        "      [0.5, 0.4, 0.3, 0.2, 0.1]])\n",
        "b1=np.array([0.1, 0.2, 0.3, 0.4, 0.5])\n",
        "\n",
        "# 計算加權和z1及輸出量h1 激發函數使用ReLU\n",
        "z1=np.dot(X,W1)+b1\n",
        "h1=relu(z1)\n",
        "print(h1)"
      ],
      "metadata": {
        "colab": {
          "base_uri": "https://localhost:8080/"
        },
        "id": "qRrQsU-A0fSV",
        "outputId": "791f40b8-d3d0-45ed-d339-028f19d35653"
      },
      "execution_count": null,
      "outputs": [
        {
          "output_type": "stream",
          "name": "stdout",
          "text": [
            "[[ 0.   0.8  3.1  5.4  7.7]\n",
            " [ 6.   3.2  0.4  0.   0. ]\n",
            " [ 3.1  2.4  1.7  1.   0.3]\n",
            " [11.7  9.7  7.7  5.7  3.7]\n",
            " [ 0.   0.   0.   0.   0. ]]\n"
          ]
        }
      ]
    },
    {
      "cell_type": "markdown",
      "source": [
        "## 4、第二層隱藏層4個神經元"
      ],
      "metadata": {
        "id": "fQDC5jIv1B9b"
      }
    },
    {
      "cell_type": "code",
      "source": [
        "W2=np.array([[0.1, 0.3, 0.5, 0.7],\n",
        "      [0.2, 0.4, 0.6, 0.8],\n",
        "      [0.3, 0.5, 0.7, 0.9],\n",
        "      [0.4, 0.6, 0.8, 0.1],\n",
        "      [0.5, 0.7, 0.9, 0.3]])\n",
        "b2=np.array([0.1, 0.2, 0.3, 0.4])\n",
        "\n",
        "# 計算加權和z2及輸出量h2 激發函數使用ReLU\n",
        "z2=np.dot(h1,W2)+b2\n",
        "h2=relu(z2)\n",
        "print(h2)"
      ],
      "metadata": {
        "colab": {
          "base_uri": "https://localhost:8080/"
        },
        "id": "DwlX5Vsq1ETd",
        "outputId": "6987aa56-03f4-4c14-fee1-52f3926efd0e"
      },
      "execution_count": 6,
      "outputs": [
        {
          "output_type": "stream",
          "name": "stdout",
          "text": [
            "[[ 7.2  10.7  14.2   6.68]\n",
            " [ 1.46  3.48  5.5   7.52]\n",
            " [ 1.95  3.75  5.55  6.21]\n",
            " [ 9.65 17.45 25.25 24.96]\n",
            " [ 0.1   0.2   0.3   0.4 ]]\n"
          ]
        }
      ]
    },
    {
      "cell_type": "markdown",
      "source": [
        "## 5、第三層隱藏層4個神經元"
      ],
      "metadata": {
        "id": "exc4FuFo1HlN"
      }
    },
    {
      "cell_type": "code",
      "source": [
        "W3=np.array([[0.7, 0.6, 0.4, 0.3],\n",
        "      [0.4, 0.2, 0.1, 0.7],\n",
        "      [0.8, 0.4, 0.3, 0.5],\n",
        "      [0.1, 0.6, 0.9, 0.3]])\n",
        "b3=np.array([0.1, 0.2, 0.3, 0.4])\n",
        "\n",
        "# 計算加權和z3及輸出量h3 激發函數使用sigmoid\n",
        "z3=np.dot(h2,W3)+b3\n",
        "h3=sigmoid(z3)\n",
        "print(h3)"
      ],
      "metadata": {
        "colab": {
          "base_uri": "https://localhost:8080/"
        },
        "id": "kiz6njIt1JeK",
        "outputId": "252ab656-f597-4fb1-c71b-28b85b5eb9f8"
      },
      "execution_count": 7,
      "outputs": [
        {
          "output_type": "stream",
          "name": "stdout",
          "text": [
            "[[1.         0.99999992 0.99999951 1.        ]\n",
            " [0.99953173 0.99979329 0.99993558 0.99974653]\n",
            " [0.99967325 0.99968606 0.99983493 0.99973829]\n",
            " [1.         1.         1.         1.        ]\n",
            " [0.62948311 0.65926039 0.6921095  0.69846522]]\n"
          ]
        }
      ]
    },
    {
      "cell_type": "markdown",
      "source": [
        "## 6、輸出層3個神經元"
      ],
      "metadata": {
        "id": "ejHeGDGa1Q6Q"
      }
    },
    {
      "cell_type": "code",
      "source": [
        "W4=np.array([[0.3, 0.9, 0.4],\n",
        "      [0.2, 0.1, 0.6],\n",
        "      [0.6, 0.8, 0.5],\n",
        "      [0.7, 0.4, 0.9]])\n",
        "b4=np.array([0.1, 0.2, 0.3])\n",
        "\n",
        "# 計算輸出結果 激發函數使用softmax\n",
        "z4=np.dot(h3,W4)+b4\n",
        "y_hat=softmax(z4)\n",
        "print(y_hat)"
      ],
      "metadata": {
        "colab": {
          "base_uri": "https://localhost:8080/"
        },
        "id": "1GFdpwUk1RQo",
        "outputId": "3000f87f-8971-4ee7-bd63-66bf4ceb0cbb"
      },
      "execution_count": 9,
      "outputs": [
        {
          "output_type": "stream",
          "name": "stdout",
          "text": [
            "[[0.04572992 0.07539589 0.10177382]\n",
            " [0.04571175 0.07535107 0.10171569]\n",
            " [0.04570968 0.07535355 0.10170903]\n",
            " [0.04572994 0.07539592 0.10177385]\n",
            " [0.02572959 0.03617209 0.04674822]]\n"
          ]
        }
      ]
    },
    {
      "cell_type": "markdown",
      "source": [
        "## 7、利用cross_entropy_error衡量y_hat與y之間的誤差值"
      ],
      "metadata": {
        "id": "xf76PRdR1d65"
      }
    },
    {
      "cell_type": "code",
      "source": [
        "def cross_entropy_error(y, t):\n",
        "    if y.ndim == 1:\n",
        "        t = t.reshape(1, t.size)\n",
        "        y = y.reshape(1, y.size)\n",
        "\n",
        "    batch_size = y.shape[0]\n",
        "    return -np.sum(t * np.log(y + 1e-7)) / batch_size"
      ],
      "metadata": {
        "id": "CWRybAJr1fY9"
      },
      "execution_count": 10,
      "outputs": []
    },
    {
      "cell_type": "code",
      "source": [
        "np.log(y_hat + 1e-7)"
      ],
      "metadata": {
        "colab": {
          "base_uri": "https://localhost:8080/"
        },
        "id": "Tfp46kpX2QiA",
        "outputId": "61532ca0-a812-4dda-9f51-3ae68833062e"
      },
      "execution_count": 12,
      "outputs": [
        {
          "output_type": "execute_result",
          "data": {
            "text/plain": [
              "array([[-3.08500021, -2.58500116, -2.2850014 ],\n",
              "       [-3.0853978 , -2.58559579, -2.28557277],\n",
              "       [-3.08544294, -2.58556296, -2.28563823],\n",
              "       [-3.08499989, -2.58500075, -2.2850011 ],\n",
              "       [-3.66010983, -3.31946479, -3.06297702]])"
            ]
          },
          "metadata": {},
          "execution_count": 12
        }
      ]
    },
    {
      "cell_type": "code",
      "source": [
        "Y*np.log(y_hat + 1e-7)"
      ],
      "metadata": {
        "colab": {
          "base_uri": "https://localhost:8080/"
        },
        "id": "olU9iLZm24p_",
        "outputId": "6479aba2-fc40-4d8d-eb20-fef9c5d35112"
      },
      "execution_count": 14,
      "outputs": [
        {
          "output_type": "execute_result",
          "data": {
            "text/plain": [
              "array([[-0.        , -0.        , -2.2850014 ],\n",
              "       [-3.0853978 , -0.        , -0.        ],\n",
              "       [-0.        , -2.58556296, -0.        ],\n",
              "       [-0.        , -0.        , -2.2850011 ],\n",
              "       [-3.66010983, -0.        , -0.        ]])"
            ]
          },
          "metadata": {},
          "execution_count": 14
        }
      ]
    },
    {
      "cell_type": "code",
      "source": [
        "np.sum(Y * np.log(y_hat + 1e-7))"
      ],
      "metadata": {
        "colab": {
          "base_uri": "https://localhost:8080/"
        },
        "id": "NVzD02Zd2h5G",
        "outputId": "5cad9033-6664-4fda-8ad6-e4e6bc950638"
      },
      "execution_count": 13,
      "outputs": [
        {
          "output_type": "execute_result",
          "data": {
            "text/plain": [
              "np.float64(-13.901073080644682)"
            ]
          },
          "metadata": {},
          "execution_count": 13
        }
      ]
    },
    {
      "cell_type": "code",
      "source": [
        "-np.sum(Y * np.log(y_hat + 1e-7))"
      ],
      "metadata": {
        "colab": {
          "base_uri": "https://localhost:8080/"
        },
        "id": "YlK7GB7L28t0",
        "outputId": "8af1a4af-a4f0-4c50-ca7f-490f29ba52ce"
      },
      "execution_count": 15,
      "outputs": [
        {
          "output_type": "execute_result",
          "data": {
            "text/plain": [
              "np.float64(13.901073080644682)"
            ]
          },
          "metadata": {},
          "execution_count": 15
        }
      ]
    },
    {
      "cell_type": "code",
      "source": [
        "cross_entropy_error(y_hat, Y)"
      ],
      "metadata": {
        "colab": {
          "base_uri": "https://localhost:8080/"
        },
        "id": "_llTRYVj3D58",
        "outputId": "4ca7e424-6496-4b9f-ac0e-18d05912190b"
      },
      "execution_count": 16,
      "outputs": [
        {
          "output_type": "execute_result",
          "data": {
            "text/plain": [
              "np.float64(2.7802146161289363)"
            ]
          },
          "metadata": {},
          "execution_count": 16
        }
      ]
    }
  ]
}